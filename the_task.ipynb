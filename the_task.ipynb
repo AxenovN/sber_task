{
 "cells": [
  {
   "cell_type": "markdown",
   "id": "064bf4e5",
   "metadata": {},
   "source": [
    "# СОДЕРЖАНИЕ\n",
    "\n",
    "- 0. (подготовка)\n",
    "- 1. Задача\n",
    "- 4. **РЕШЕНИЕ**\n",
    "- 2. Концепт решения\n",
    "- 3. Решение step-by-step (алгоритмическое)"
   ]
  },
  {
   "cell_type": "code",
   "execution_count": 1,
   "id": "0305c405",
   "metadata": {},
   "outputs": [],
   "source": [
    "import pandas as pd"
   ]
  },
  {
   "cell_type": "code",
   "execution_count": 2,
   "id": "bca96e05",
   "metadata": {
    "scrolled": false
   },
   "outputs": [
    {
     "data": {
      "text/html": [
       "<div>\n",
       "<style scoped>\n",
       "    .dataframe tbody tr th:only-of-type {\n",
       "        vertical-align: middle;\n",
       "    }\n",
       "\n",
       "    .dataframe tbody tr th {\n",
       "        vertical-align: top;\n",
       "    }\n",
       "\n",
       "    .dataframe thead th {\n",
       "        text-align: right;\n",
       "    }\n",
       "</style>\n",
       "<table border=\"1\" class=\"dataframe\">\n",
       "  <thead>\n",
       "    <tr style=\"text-align: right;\">\n",
       "      <th></th>\n",
       "      <th>id_key</th>\n",
       "      <th>id_user</th>\n",
       "      <th>phone</th>\n",
       "      <th>email</th>\n",
       "    </tr>\n",
       "  </thead>\n",
       "  <tbody>\n",
       "    <tr>\n",
       "      <th>0</th>\n",
       "      <td>1</td>\n",
       "      <td>12345</td>\n",
       "      <td>89997776655</td>\n",
       "      <td>test@mail.ru</td>\n",
       "    </tr>\n",
       "    <tr>\n",
       "      <th>1</th>\n",
       "      <td>2</td>\n",
       "      <td>54321</td>\n",
       "      <td>87778885566</td>\n",
       "      <td>two@mail.ru</td>\n",
       "    </tr>\n",
       "    <tr>\n",
       "      <th>2</th>\n",
       "      <td>3</td>\n",
       "      <td>98765</td>\n",
       "      <td>87776664577</td>\n",
       "      <td>three@mail.ru</td>\n",
       "    </tr>\n",
       "    <tr>\n",
       "      <th>3</th>\n",
       "      <td>4</td>\n",
       "      <td>66678</td>\n",
       "      <td>87778885566</td>\n",
       "      <td>four@mail.ru</td>\n",
       "    </tr>\n",
       "    <tr>\n",
       "      <th>4</th>\n",
       "      <td>5</td>\n",
       "      <td>34567</td>\n",
       "      <td>84547895566</td>\n",
       "      <td>four@mail.ru</td>\n",
       "    </tr>\n",
       "    <tr>\n",
       "      <th>5</th>\n",
       "      <td>6</td>\n",
       "      <td>34567</td>\n",
       "      <td>89087545678</td>\n",
       "      <td>five@mail.ru</td>\n",
       "    </tr>\n",
       "  </tbody>\n",
       "</table>\n",
       "</div>"
      ],
      "text/plain": [
       "  id_key id_user        phone          email\n",
       "0      1   12345  89997776655   test@mail.ru\n",
       "1      2   54321  87778885566    two@mail.ru\n",
       "2      3   98765  87776664577  three@mail.ru\n",
       "3      4   66678  87778885566   four@mail.ru\n",
       "4      5   34567  84547895566   four@mail.ru\n",
       "5      6   34567  89087545678   five@mail.ru"
      ]
     },
     "execution_count": 2,
     "metadata": {},
     "output_type": "execute_result"
    }
   ],
   "source": [
    "df = pd.read_csv('test_data.csv', sep=';')\n",
    "df = df.applymap(str)\n",
    "df"
   ]
  },
  {
   "cell_type": "code",
   "execution_count": 3,
   "id": "5679750c",
   "metadata": {},
   "outputs": [
    {
     "data": {
      "text/plain": [
       "id_key     object\n",
       "id_user    object\n",
       "phone      object\n",
       "email      object\n",
       "dtype: object"
      ]
     },
     "execution_count": 3,
     "metadata": {},
     "output_type": "execute_result"
    }
   ],
   "source": [
    "df.dtypes"
   ]
  },
  {
   "cell_type": "markdown",
   "id": "2c005e22",
   "metadata": {},
   "source": [
    "# Задача\n",
    "\n",
    "Написать Функцию:\n",
    "- input вида \"phone = 87778885566\"\n",
    "- output: связанные данный вида (см. ниже)"
   ]
  },
  {
   "cell_type": "code",
   "execution_count": 4,
   "id": "6b11d90c",
   "metadata": {
    "scrolled": false
   },
   "outputs": [
    {
     "data": {
      "text/html": [
       "<div>\n",
       "<style scoped>\n",
       "    .dataframe tbody tr th:only-of-type {\n",
       "        vertical-align: middle;\n",
       "    }\n",
       "\n",
       "    .dataframe tbody tr th {\n",
       "        vertical-align: top;\n",
       "    }\n",
       "\n",
       "    .dataframe thead th {\n",
       "        text-align: right;\n",
       "    }\n",
       "</style>\n",
       "<table border=\"1\" class=\"dataframe\">\n",
       "  <thead>\n",
       "    <tr style=\"text-align: right;\">\n",
       "      <th></th>\n",
       "      <th>id_key</th>\n",
       "      <th>id_user</th>\n",
       "      <th>phone</th>\n",
       "      <th>email</th>\n",
       "    </tr>\n",
       "  </thead>\n",
       "  <tbody>\n",
       "    <tr>\n",
       "      <th>0</th>\n",
       "      <td>2</td>\n",
       "      <td>54321</td>\n",
       "      <td>87778885566</td>\n",
       "      <td>two@mail.ru</td>\n",
       "    </tr>\n",
       "    <tr>\n",
       "      <th>1</th>\n",
       "      <td>4</td>\n",
       "      <td>66678</td>\n",
       "      <td>87778885566</td>\n",
       "      <td>four@mail.ru</td>\n",
       "    </tr>\n",
       "    <tr>\n",
       "      <th>2</th>\n",
       "      <td>5</td>\n",
       "      <td>34567</td>\n",
       "      <td>84547895566</td>\n",
       "      <td>four@mail.ru</td>\n",
       "    </tr>\n",
       "    <tr>\n",
       "      <th>3</th>\n",
       "      <td>6</td>\n",
       "      <td>34567</td>\n",
       "      <td>89087545678</td>\n",
       "      <td>five@mail.ru</td>\n",
       "    </tr>\n",
       "  </tbody>\n",
       "</table>\n",
       "</div>"
      ],
      "text/plain": [
       "   id_key  id_user        phone         email\n",
       "0       2    54321  87778885566   two@mail.ru\n",
       "1       4    66678  87778885566  four@mail.ru\n",
       "2       5    34567  84547895566  four@mail.ru\n",
       "3       6    34567  89087545678  five@mail.ru"
      ]
     },
     "execution_count": 4,
     "metadata": {},
     "output_type": "execute_result"
    }
   ],
   "source": [
    "pd.read_csv('87778885566.csv', sep=';')"
   ]
  },
  {
   "cell_type": "markdown",
   "id": "dd241ea9",
   "metadata": {},
   "source": [
    "# РЕШЕНИЕ"
   ]
  },
  {
   "cell_type": "code",
   "execution_count": 5,
   "id": "a6c11163",
   "metadata": {},
   "outputs": [],
   "source": [
    "def connection_query(df, query_s):\n",
    "    \n",
    "    # приведение к алгоритмическому решению\n",
    "    cols = df.columns.to_list()[1:]\n",
    "    input_ = query_s  \n",
    "    \n",
    "    # выделяем из запроса колонку и значение\n",
    "    col = input_.split(' = ')[0]\n",
    "    val = input_.split(' = ')[1]\n",
    "    \n",
    "    # создаем строку запроса\n",
    "    q=f'{col} == \"{val}\"'\n",
    "    \n",
    "    # берем из основного DF данные по id_key, удовлетворяющие запросу q\n",
    "    # то есть находим связь 1-ого уровня\n",
    "    s1 = []\n",
    "    for i in df.query(q).id_key.tolist():\n",
    "        s1.append(i)\n",
    "        \n",
    "    '''\n",
    "    # далее в коде нам понадобится ссылаться на имена колонок, поэтому\n",
    "    cols = df.columns.to_list()[1:]\n",
    "    '''\n",
    "    \n",
    "    # для каждого элемента из списка id_key перого уровня (s1) осуществляем поиск\n",
    "    # задача: сформировать список id_key 2-ого уровня (s2)\n",
    "    \n",
    "    ####################\n",
    "    # напишем ф-цию формирования списка id_key i-ого уровня из списка (i-1)-ого уровня\n",
    "    def get_down(take_from, save_to, columns):\n",
    "        \n",
    "        ## для i-ого элемента верхнего уровня будем искать значения колонки 1 (id_user)\n",
    "        for i in take_from:\n",
    "            \n",
    "            ### берем i-ый элемент верхнего уровня\n",
    "            el_ = i\n",
    "\n",
    "            ### формируем запрос\n",
    "            q = f'id_key == \"{el_}\"'\n",
    "\n",
    "            ### сохраняем результат запроса\n",
    "            r = df.query(q)\n",
    "            \n",
    "            ### колонки нашего DataFrame'а\n",
    "            cols = columns\n",
    "\n",
    "            ### для k-ой колонки\n",
    "            for k in cols:\n",
    "\n",
    "                ### сохраняем название колонки, с которой работаем\n",
    "                col_ = k\n",
    "\n",
    "                ### из результата возьмем все данные из k-ой искомой колонки\n",
    "                ### и сразу проведем поиск связанных данных\n",
    "                v = r[col_].iloc[0]\n",
    "\n",
    "                ### формируем запрос на поиск связанных с k-ой колонкой данных в id_key\n",
    "                q = f'{col_} == \"{v}\"'\n",
    "\n",
    "                ### ищем связанные с этим id_user данные в id_key\n",
    "                ### и сохраняем эти id_key в список 2-ого уровня\n",
    "                for i in df.query(q).id_key.tolist():\n",
    "                    save_to.append(i)\n",
    "    ####################\n",
    "    \n",
    "    # написали ф-цию формирования списка id_key i-ого уровня из списка (i-1)-ого уровня\n",
    "    # вернемся к задаче\n",
    "    \n",
    "    ####################    \n",
    "    # задача: сформировать список id_key 2-ого уровня (s2)\n",
    "    # выполним ее с помощью ф-ции get_down()\n",
    "    # для нее нужны:\n",
    "    # take_from - список с id_keys верхнего уровня, \n",
    "    # save_to   - пустой список для id_keys нижнего уровня, \n",
    "    # columns   - список колонок DF, по к-рым будет осущ. поиск связи\n",
    "    \n",
    "    # take_from == s1\n",
    "    s2 = []  # save_to\n",
    "    # columns == cols\n",
    "    \n",
    "    # формируем список 2-ого уровня\n",
    "    get_down(take_from=s1, save_to=s2, columns=cols)\n",
    "    # теперь у нас есть сформированный список 2-ого уровня (s2)\n",
    "    \n",
    "    # удаляем дупликаты\n",
    "    s2 = list(dict.fromkeys(s2))\n",
    "\n",
    "    # сортируем\n",
    "    s2 = list(map(int, s2))\n",
    "    s2.sort()\n",
    "    s2 = list(map(str, s2))\n",
    "\n",
    "    # получаем список тех id_key, который мы еще не проверили на связь с первоначальным запросом\n",
    "    # т.е. мы смотрим связь 2-ого уровня\n",
    "    s2 = list(set(s2) - set(s1))\n",
    "    ####################\n",
    "    \n",
    "    ####################    \n",
    "    # задача: сформировать список id_key 3-ого уровня (s3)\n",
    "    # выполним ее с помощью ф-ции get_down(), для к-рой нужны:\n",
    "    # take_from == s2  - список с id_keys верхнего уровня, \n",
    "    s3 = []  # save_to - пустой список для id_keys нижнего уровня, \n",
    "    # columns == cols  - список колонок DF, по к-рым будет осущ. поиск связи\n",
    "    \n",
    "    # формируем список 3-его уровня\n",
    "    get_down(take_from=s2, save_to=s3, columns=cols)\n",
    "    # теперь у нас есть сформированный список 3-его уровня (s3)\n",
    "    \n",
    "    # удаляем дупликаты\n",
    "    s3 = list(dict.fromkeys(s3))\n",
    "\n",
    "    # сортируем\n",
    "    s3 = list(map(int, s3))\n",
    "    s3.sort()\n",
    "    s3 = list(map(str, s3))\n",
    "\n",
    "    # получаем список тех id_key, который мы еще не проверили на связь с первоначальным запросом\n",
    "    # т.е. мы смотрим связь 3-его уровня\n",
    "    s3 = list(set(s3) - set(s2) - set(s1))\n",
    "    ####################\n",
    "\n",
    "    ####################    \n",
    "    # задача: сформировать список id_key 4-ого (финального для DataFrame'ов такого типа) уровня (s4)\n",
    "    # выполним ее с помощью ф-ции get_down(), для к-рой нужны:\n",
    "    # take_from == s3  - список с id_keys верхнего уровня, \n",
    "    s4 = []  # save_to - пустой список для id_keys нижнего уровня, \n",
    "    # columns == cols  - список колонок DF, по к-рым будет осущ. поиск связи\n",
    "    \n",
    "    # формируем список 4-ого уровня\n",
    "    get_down(take_from=s3, save_to=s4, columns=cols)\n",
    "    # теперь у нас есть сформированный список 4-его уровня (s4)\n",
    "    \n",
    "    # удаляем дупликаты\n",
    "    s4 = list(dict.fromkeys(s4))\n",
    "\n",
    "    # сортируем\n",
    "    s4 = list(map(int, s4))\n",
    "    s4.sort()\n",
    "    s4 = list(map(str, s4))\n",
    "\n",
    "    # получаем список тех id_key, который мы еще не проверили на связь с первоначальным запросом\n",
    "    # т.е. мы смотрим связь 4-ого уровня\n",
    "    s4 = list(set(s4) - set(s3) - set(s2) - set(s1))\n",
    "    ####################    \n",
    "    \n",
    "    # не должно остаться id_key, которые мы не проверили на связь\n",
    "    if s4 == []:\n",
    "        pass\n",
    "    else:\n",
    "        print('ERROR: похоже, есть связь 5-ого и более уровней, т.к. список s4 не пуст')\n",
    "        '''и здесь мы обрываем выполнение функции'''\n",
    "        return 'ERROR'\n",
    "    \n",
    "    # формируем финальный список id_keys, которые мы должны отобразить в output\n",
    "    S = set()\n",
    "    S.update(set(s1))\n",
    "    S.update(set(s2))\n",
    "    S.update(set(s3))\n",
    "\n",
    "    # возвращаем DF с запросом в качестве output\n",
    "    \n",
    "    return df.query(f'id_key in {list(S)}')"
   ]
  },
  {
   "cell_type": "code",
   "execution_count": 6,
   "id": "001e1d1a",
   "metadata": {
    "scrolled": true
   },
   "outputs": [
    {
     "data": {
      "text/html": [
       "<div>\n",
       "<style scoped>\n",
       "    .dataframe tbody tr th:only-of-type {\n",
       "        vertical-align: middle;\n",
       "    }\n",
       "\n",
       "    .dataframe tbody tr th {\n",
       "        vertical-align: top;\n",
       "    }\n",
       "\n",
       "    .dataframe thead th {\n",
       "        text-align: right;\n",
       "    }\n",
       "</style>\n",
       "<table border=\"1\" class=\"dataframe\">\n",
       "  <thead>\n",
       "    <tr style=\"text-align: right;\">\n",
       "      <th></th>\n",
       "      <th>id_key</th>\n",
       "      <th>id_user</th>\n",
       "      <th>phone</th>\n",
       "      <th>email</th>\n",
       "    </tr>\n",
       "  </thead>\n",
       "  <tbody>\n",
       "    <tr>\n",
       "      <th>1</th>\n",
       "      <td>2</td>\n",
       "      <td>54321</td>\n",
       "      <td>87778885566</td>\n",
       "      <td>two@mail.ru</td>\n",
       "    </tr>\n",
       "    <tr>\n",
       "      <th>3</th>\n",
       "      <td>4</td>\n",
       "      <td>66678</td>\n",
       "      <td>87778885566</td>\n",
       "      <td>four@mail.ru</td>\n",
       "    </tr>\n",
       "    <tr>\n",
       "      <th>4</th>\n",
       "      <td>5</td>\n",
       "      <td>34567</td>\n",
       "      <td>84547895566</td>\n",
       "      <td>four@mail.ru</td>\n",
       "    </tr>\n",
       "    <tr>\n",
       "      <th>5</th>\n",
       "      <td>6</td>\n",
       "      <td>34567</td>\n",
       "      <td>89087545678</td>\n",
       "      <td>five@mail.ru</td>\n",
       "    </tr>\n",
       "  </tbody>\n",
       "</table>\n",
       "</div>"
      ],
      "text/plain": [
       "  id_key id_user        phone         email\n",
       "1      2   54321  87778885566   two@mail.ru\n",
       "3      4   66678  87778885566  four@mail.ru\n",
       "4      5   34567  84547895566  four@mail.ru\n",
       "5      6   34567  89087545678  five@mail.ru"
      ]
     },
     "execution_count": 6,
     "metadata": {},
     "output_type": "execute_result"
    }
   ],
   "source": [
    "'''test'''\n",
    "res = connection_query(df=df, query_s=\"phone = 87778885566\")\n",
    "res"
   ]
  },
  {
   "cell_type": "markdown",
   "id": "22988e36",
   "metadata": {},
   "source": [
    "# Концепт решения"
   ]
  },
  {
   "cell_type": "markdown",
   "id": "133bda76",
   "metadata": {},
   "source": [
    "Важное допущение:\n",
    "- значения в колонке id_key никогда не повторяются"
   ]
  },
  {
   "cell_type": "markdown",
   "id": "d9368519",
   "metadata": {},
   "source": [
    "1. скарливаем строку вида \"<колонка> = <значение>\"\n",
    "2. парсим и сохраняем <колонку> и <значение>\n",
    "3. Шаг 1: находим в наборе данных (DF) колонку <колонка> и по ней ищем значения, равные <значению>; сохраняем id_key этих записей\n",
    "4. Шаг 2: берем i-ый сохраненный id_key, сохраненный в п.3; находим в данных его запись; берем значения из k-ой колонки этой записи; по этому значению в DF в соответствующей колонке ищем равные значения и сохраняем их id_key\n",
    "5. Шаг 3: все наборы сохраненных id_key объединяем без повторений и сохраняем результирующий набор\n",
    "6. выводим данные из DF с соответствующими id_key"
   ]
  },
  {
   "cell_type": "markdown",
   "id": "44c7e4ba",
   "metadata": {},
   "source": [
    "# Решение step-by-step"
   ]
  },
  {
   "cell_type": "code",
   "execution_count": 7,
   "id": "3e057ba4",
   "metadata": {},
   "outputs": [],
   "source": [
    "# вводим основной запрос\n",
    "input_ = 'phone = 87778885566'"
   ]
  },
  {
   "cell_type": "code",
   "execution_count": 8,
   "id": "c7c67a99",
   "metadata": {},
   "outputs": [],
   "source": [
    "# выделяем из запроса колонку и значение\n",
    "col = input_.split(' = ')[0]\n",
    "val = input_.split(' = ')[1]"
   ]
  },
  {
   "cell_type": "code",
   "execution_count": 9,
   "id": "00e31520",
   "metadata": {},
   "outputs": [
    {
     "name": "stdout",
     "output_type": "stream",
     "text": [
      "phone\n",
      "87778885566\n"
     ]
    }
   ],
   "source": [
    "'''test'''\n",
    "print(col)\n",
    "print(val)"
   ]
  },
  {
   "cell_type": "code",
   "execution_count": 10,
   "id": "a82d8fbb",
   "metadata": {},
   "outputs": [],
   "source": [
    "# создаем строку запроса\n",
    "q=f'{col} == \"{val}\"'"
   ]
  },
  {
   "cell_type": "code",
   "execution_count": 11,
   "id": "c66557ce",
   "metadata": {},
   "outputs": [
    {
     "data": {
      "text/plain": [
       "'phone == \"87778885566\"'"
      ]
     },
     "execution_count": 11,
     "metadata": {},
     "output_type": "execute_result"
    }
   ],
   "source": [
    "'''test'''\n",
    "q"
   ]
  },
  {
   "cell_type": "code",
   "execution_count": 12,
   "id": "6f81beba",
   "metadata": {},
   "outputs": [],
   "source": [
    "# берем из основного DF данные по id_key, удовлетворяющие запросу q\n",
    "# то есть находим связь 1-ого уровня\n",
    "s1 = []\n",
    "for i in df.query(q).id_key.tolist():\n",
    "    s1.append(i)"
   ]
  },
  {
   "cell_type": "code",
   "execution_count": 13,
   "id": "5f3f8f79",
   "metadata": {},
   "outputs": [
    {
     "data": {
      "text/plain": [
       "['2', '4']"
      ]
     },
     "execution_count": 13,
     "metadata": {},
     "output_type": "execute_result"
    }
   ],
   "source": [
    "'''test'''\n",
    "s1"
   ]
  },
  {
   "cell_type": "code",
   "execution_count": 14,
   "id": "b28082e6",
   "metadata": {
    "scrolled": true
   },
   "outputs": [
    {
     "data": {
      "text/html": [
       "<div>\n",
       "<style scoped>\n",
       "    .dataframe tbody tr th:only-of-type {\n",
       "        vertical-align: middle;\n",
       "    }\n",
       "\n",
       "    .dataframe tbody tr th {\n",
       "        vertical-align: top;\n",
       "    }\n",
       "\n",
       "    .dataframe thead th {\n",
       "        text-align: right;\n",
       "    }\n",
       "</style>\n",
       "<table border=\"1\" class=\"dataframe\">\n",
       "  <thead>\n",
       "    <tr style=\"text-align: right;\">\n",
       "      <th></th>\n",
       "      <th>id_key</th>\n",
       "      <th>id_user</th>\n",
       "      <th>phone</th>\n",
       "      <th>email</th>\n",
       "    </tr>\n",
       "  </thead>\n",
       "  <tbody>\n",
       "    <tr>\n",
       "      <th>1</th>\n",
       "      <td>2</td>\n",
       "      <td>54321</td>\n",
       "      <td>87778885566</td>\n",
       "      <td>two@mail.ru</td>\n",
       "    </tr>\n",
       "    <tr>\n",
       "      <th>3</th>\n",
       "      <td>4</td>\n",
       "      <td>66678</td>\n",
       "      <td>87778885566</td>\n",
       "      <td>four@mail.ru</td>\n",
       "    </tr>\n",
       "  </tbody>\n",
       "</table>\n",
       "</div>"
      ],
      "text/plain": [
       "  id_key id_user        phone         email\n",
       "1      2   54321  87778885566   two@mail.ru\n",
       "3      4   66678  87778885566  four@mail.ru"
      ]
     },
     "execution_count": 14,
     "metadata": {},
     "output_type": "execute_result"
    }
   ],
   "source": [
    "'''test'''\n",
    "df.query(q)"
   ]
  },
  {
   "cell_type": "code",
   "execution_count": 15,
   "id": "230256f9",
   "metadata": {},
   "outputs": [],
   "source": [
    "# далее в коде нам понадобится ссылаться на имена колонок, поэтому\n",
    "cols = df.columns.to_list()[1:]"
   ]
  },
  {
   "cell_type": "code",
   "execution_count": 16,
   "id": "f52a21d5",
   "metadata": {},
   "outputs": [
    {
     "data": {
      "text/plain": [
       "['id_user', 'phone', 'email']"
      ]
     },
     "execution_count": 16,
     "metadata": {},
     "output_type": "execute_result"
    }
   ],
   "source": [
    "'''test'''\n",
    "cols"
   ]
  },
  {
   "cell_type": "code",
   "execution_count": 17,
   "id": "ac30b547",
   "metadata": {},
   "outputs": [],
   "source": [
    "# для каждого элемента из списка id_key перого уровня (s1) осуществляем поиск"
   ]
  },
  {
   "cell_type": "markdown",
   "id": "c099f9de",
   "metadata": {},
   "source": [
    "***"
   ]
  },
  {
   "cell_type": "code",
   "execution_count": 18,
   "id": "09354a1a",
   "metadata": {},
   "outputs": [],
   "source": [
    "## для 1-ого элемента s1 будем искать значения колонки 1 (id_user)\n",
    "\n",
    "### берем 1-ый элемент\n",
    "el_ = s1[0]"
   ]
  },
  {
   "cell_type": "code",
   "execution_count": 19,
   "id": "bfa9419b",
   "metadata": {},
   "outputs": [
    {
     "name": "stdout",
     "output_type": "stream",
     "text": [
      "['2', '4']\n",
      "2\n"
     ]
    }
   ],
   "source": [
    "'''test'''\n",
    "print(s1)\n",
    "print(el_)"
   ]
  },
  {
   "cell_type": "code",
   "execution_count": 20,
   "id": "50994f4a",
   "metadata": {},
   "outputs": [],
   "source": [
    "### формируем запрос\n",
    "q = f'id_key == \"{el_}\"'"
   ]
  },
  {
   "cell_type": "code",
   "execution_count": 21,
   "id": "358a3ae5",
   "metadata": {},
   "outputs": [
    {
     "data": {
      "text/plain": [
       "'id_key == \"2\"'"
      ]
     },
     "execution_count": 21,
     "metadata": {},
     "output_type": "execute_result"
    }
   ],
   "source": [
    "'''test'''\n",
    "q"
   ]
  },
  {
   "cell_type": "code",
   "execution_count": 22,
   "id": "b3488eca",
   "metadata": {},
   "outputs": [],
   "source": [
    "### сохраняем результат запроса\n",
    "r = df.query(q)"
   ]
  },
  {
   "cell_type": "code",
   "execution_count": 23,
   "id": "1cea1e02",
   "metadata": {
    "scrolled": true
   },
   "outputs": [
    {
     "data": {
      "text/html": [
       "<div>\n",
       "<style scoped>\n",
       "    .dataframe tbody tr th:only-of-type {\n",
       "        vertical-align: middle;\n",
       "    }\n",
       "\n",
       "    .dataframe tbody tr th {\n",
       "        vertical-align: top;\n",
       "    }\n",
       "\n",
       "    .dataframe thead th {\n",
       "        text-align: right;\n",
       "    }\n",
       "</style>\n",
       "<table border=\"1\" class=\"dataframe\">\n",
       "  <thead>\n",
       "    <tr style=\"text-align: right;\">\n",
       "      <th></th>\n",
       "      <th>id_key</th>\n",
       "      <th>id_user</th>\n",
       "      <th>phone</th>\n",
       "      <th>email</th>\n",
       "    </tr>\n",
       "  </thead>\n",
       "  <tbody>\n",
       "    <tr>\n",
       "      <th>1</th>\n",
       "      <td>2</td>\n",
       "      <td>54321</td>\n",
       "      <td>87778885566</td>\n",
       "      <td>two@mail.ru</td>\n",
       "    </tr>\n",
       "  </tbody>\n",
       "</table>\n",
       "</div>"
      ],
      "text/plain": [
       "  id_key id_user        phone        email\n",
       "1      2   54321  87778885566  two@mail.ru"
      ]
     },
     "execution_count": 23,
     "metadata": {},
     "output_type": "execute_result"
    }
   ],
   "source": [
    "'''test'''\n",
    "r"
   ]
  },
  {
   "cell_type": "markdown",
   "id": "d601b934",
   "metadata": {},
   "source": [
    "***"
   ]
  },
  {
   "cell_type": "code",
   "execution_count": 24,
   "id": "5dfad844",
   "metadata": {},
   "outputs": [],
   "source": [
    "### из результата возьмем все данные из 1-ой искомой колонки\n",
    "### и сразу проведем поиск связанных данных\n",
    "v = r[cols[0]].iloc[0]"
   ]
  },
  {
   "cell_type": "code",
   "execution_count": 25,
   "id": "569792bd",
   "metadata": {},
   "outputs": [
    {
     "data": {
      "text/plain": [
       "'54321'"
      ]
     },
     "execution_count": 25,
     "metadata": {},
     "output_type": "execute_result"
    }
   ],
   "source": [
    "'''test id_user'''\n",
    "v"
   ]
  },
  {
   "cell_type": "code",
   "execution_count": 26,
   "id": "7197696e",
   "metadata": {},
   "outputs": [],
   "source": [
    "### формируем запрос на поиск связанных с этим id_user (1-ая кол.) данных в id_key\n",
    "q = f'{cols[0]} == \"{v}\"'"
   ]
  },
  {
   "cell_type": "code",
   "execution_count": 27,
   "id": "81362b22",
   "metadata": {},
   "outputs": [
    {
     "data": {
      "text/plain": [
       "'id_user == \"54321\"'"
      ]
     },
     "execution_count": 27,
     "metadata": {},
     "output_type": "execute_result"
    }
   ],
   "source": [
    "'''test'''\n",
    "q"
   ]
  },
  {
   "cell_type": "code",
   "execution_count": 28,
   "id": "a221456f",
   "metadata": {},
   "outputs": [],
   "source": [
    "### ищем связанные с этим id_user данные в id_key\n",
    "### и сохраняем эти id_key в список 2-ого уровня\n",
    "s2 = []\n",
    "for i in df.query(q).id_key.tolist():\n",
    "    s2.append(i)"
   ]
  },
  {
   "cell_type": "code",
   "execution_count": 29,
   "id": "f214b07a",
   "metadata": {},
   "outputs": [
    {
     "data": {
      "text/html": [
       "<div>\n",
       "<style scoped>\n",
       "    .dataframe tbody tr th:only-of-type {\n",
       "        vertical-align: middle;\n",
       "    }\n",
       "\n",
       "    .dataframe tbody tr th {\n",
       "        vertical-align: top;\n",
       "    }\n",
       "\n",
       "    .dataframe thead th {\n",
       "        text-align: right;\n",
       "    }\n",
       "</style>\n",
       "<table border=\"1\" class=\"dataframe\">\n",
       "  <thead>\n",
       "    <tr style=\"text-align: right;\">\n",
       "      <th></th>\n",
       "      <th>id_key</th>\n",
       "      <th>id_user</th>\n",
       "      <th>phone</th>\n",
       "      <th>email</th>\n",
       "    </tr>\n",
       "  </thead>\n",
       "  <tbody>\n",
       "    <tr>\n",
       "      <th>1</th>\n",
       "      <td>2</td>\n",
       "      <td>54321</td>\n",
       "      <td>87778885566</td>\n",
       "      <td>two@mail.ru</td>\n",
       "    </tr>\n",
       "  </tbody>\n",
       "</table>\n",
       "</div>"
      ],
      "text/plain": [
       "  id_key id_user        phone        email\n",
       "1      2   54321  87778885566  two@mail.ru"
      ]
     },
     "execution_count": 29,
     "metadata": {},
     "output_type": "execute_result"
    }
   ],
   "source": [
    "'''test'''\n",
    "df.query(q)"
   ]
  },
  {
   "cell_type": "code",
   "execution_count": 30,
   "id": "0dae8916",
   "metadata": {},
   "outputs": [
    {
     "data": {
      "text/plain": [
       "['2']"
      ]
     },
     "execution_count": 30,
     "metadata": {},
     "output_type": "execute_result"
    }
   ],
   "source": [
    "'''test'''\n",
    "s2"
   ]
  },
  {
   "cell_type": "markdown",
   "id": "dec4c1aa",
   "metadata": {},
   "source": [
    "***"
   ]
  },
  {
   "cell_type": "code",
   "execution_count": 31,
   "id": "25e17932",
   "metadata": {},
   "outputs": [],
   "source": [
    "### теперь\n",
    "### из результата (r) возьмем все данные из 2-ой искомой колонки\n",
    "### и сразу проведем поиск связанных данных\n",
    "v = r[cols[1]].iloc[0]"
   ]
  },
  {
   "cell_type": "code",
   "execution_count": 32,
   "id": "20b950cd",
   "metadata": {},
   "outputs": [
    {
     "data": {
      "text/plain": [
       "'87778885566'"
      ]
     },
     "execution_count": 32,
     "metadata": {},
     "output_type": "execute_result"
    }
   ],
   "source": [
    "'''test id_user'''\n",
    "v"
   ]
  },
  {
   "cell_type": "code",
   "execution_count": 33,
   "id": "210ec72c",
   "metadata": {},
   "outputs": [],
   "source": [
    "### формируем запрос на поиск связанных с этим phone (2-ая кол.) данных в id_key\n",
    "q = f'{cols[1]} == \"{v}\"'"
   ]
  },
  {
   "cell_type": "code",
   "execution_count": 34,
   "id": "302f9c19",
   "metadata": {
    "scrolled": true
   },
   "outputs": [
    {
     "data": {
      "text/plain": [
       "'phone == \"87778885566\"'"
      ]
     },
     "execution_count": 34,
     "metadata": {},
     "output_type": "execute_result"
    }
   ],
   "source": [
    "'''test'''\n",
    "q"
   ]
  },
  {
   "cell_type": "code",
   "execution_count": 35,
   "id": "7279b73c",
   "metadata": {},
   "outputs": [],
   "source": [
    "### ищем связанные с этим phone данные в id_key\n",
    "### и сохраняем эти id_key в список 2-ого уровня\n",
    "'''s2 = []    это нам в этой ячейке не нужно'''\n",
    "for i in df.query(q).id_key.tolist():\n",
    "    s2.append(i)"
   ]
  },
  {
   "cell_type": "code",
   "execution_count": 36,
   "id": "d974f8a2",
   "metadata": {
    "scrolled": true
   },
   "outputs": [
    {
     "data": {
      "text/html": [
       "<div>\n",
       "<style scoped>\n",
       "    .dataframe tbody tr th:only-of-type {\n",
       "        vertical-align: middle;\n",
       "    }\n",
       "\n",
       "    .dataframe tbody tr th {\n",
       "        vertical-align: top;\n",
       "    }\n",
       "\n",
       "    .dataframe thead th {\n",
       "        text-align: right;\n",
       "    }\n",
       "</style>\n",
       "<table border=\"1\" class=\"dataframe\">\n",
       "  <thead>\n",
       "    <tr style=\"text-align: right;\">\n",
       "      <th></th>\n",
       "      <th>id_key</th>\n",
       "      <th>id_user</th>\n",
       "      <th>phone</th>\n",
       "      <th>email</th>\n",
       "    </tr>\n",
       "  </thead>\n",
       "  <tbody>\n",
       "    <tr>\n",
       "      <th>1</th>\n",
       "      <td>2</td>\n",
       "      <td>54321</td>\n",
       "      <td>87778885566</td>\n",
       "      <td>two@mail.ru</td>\n",
       "    </tr>\n",
       "    <tr>\n",
       "      <th>3</th>\n",
       "      <td>4</td>\n",
       "      <td>66678</td>\n",
       "      <td>87778885566</td>\n",
       "      <td>four@mail.ru</td>\n",
       "    </tr>\n",
       "  </tbody>\n",
       "</table>\n",
       "</div>"
      ],
      "text/plain": [
       "  id_key id_user        phone         email\n",
       "1      2   54321  87778885566   two@mail.ru\n",
       "3      4   66678  87778885566  four@mail.ru"
      ]
     },
     "execution_count": 36,
     "metadata": {},
     "output_type": "execute_result"
    }
   ],
   "source": [
    "'''test'''\n",
    "df.query(q)"
   ]
  },
  {
   "cell_type": "code",
   "execution_count": 37,
   "id": "416f876f",
   "metadata": {},
   "outputs": [
    {
     "data": {
      "text/plain": [
       "['2', '2', '4']"
      ]
     },
     "execution_count": 37,
     "metadata": {},
     "output_type": "execute_result"
    }
   ],
   "source": [
    "'''test'''\n",
    "s2"
   ]
  },
  {
   "cell_type": "markdown",
   "id": "fa25b554",
   "metadata": {},
   "source": [
    "***"
   ]
  },
  {
   "cell_type": "code",
   "execution_count": 38,
   "id": "10dabdef",
   "metadata": {},
   "outputs": [],
   "source": [
    "### теперь\n",
    "### из результата (r) возьмем все данные из 3-ей искомой колонки\n",
    "### и сразу проведем поиск связанных данных\n",
    "v = r[cols[2]].iloc[0]\n",
    "\n",
    "### формируем запрос на поиск связанных с этим email (3-я кол.) данных в id_key\n",
    "q = f'{cols[2]} == \"{v}\"'\n",
    "\n",
    "### ищем связанные с этим email данные в id_key\n",
    "### и сохраняем эти id_key в список 2-ого уровня\n",
    "'''s2 = []    это нам в этой ячейке не нужно'''\n",
    "for i in df.query(q).id_key.tolist():\n",
    "    s2.append(i)"
   ]
  },
  {
   "cell_type": "code",
   "execution_count": 39,
   "id": "1dbeb877",
   "metadata": {
    "scrolled": true
   },
   "outputs": [
    {
     "name": "stdout",
     "output_type": "stream",
     "text": [
      "two@mail.ru\n",
      "email == \"two@mail.ru\"\n",
      "  id_key id_user        phone        email\n",
      "1      2   54321  87778885566  two@mail.ru\n",
      "['2', '2', '4', '2']\n"
     ]
    }
   ],
   "source": [
    "'''test'''\n",
    "print(v)\n",
    "print(q)\n",
    "print(df.query(q))\n",
    "print(s2)"
   ]
  },
  {
   "cell_type": "markdown",
   "id": "1d218984",
   "metadata": {},
   "source": [
    "***"
   ]
  },
  {
   "cell_type": "code",
   "execution_count": 40,
   "id": "d601b471",
   "metadata": {},
   "outputs": [],
   "source": [
    "## для 2-ого элемента s1 будем искать значения колонки 1 (id_user)\n",
    "\n",
    "### берем 2-ой элемент\n",
    "el_ = s1[1]\n",
    "\n",
    "### формируем запрос\n",
    "q = f'id_key == \"{el_}\"'\n",
    "\n",
    "### сохраняем результат запроса\n",
    "r = df.query(q)\n",
    "\n",
    "### из результата возьмем все данные из 1-ой искомой колонки\n",
    "### и сразу проведем поиск связанных данных\n",
    "v = r[cols[0]].iloc[0]\n",
    "\n",
    "### формируем запрос на поиск связанных с этим id_user (1-ая кол.) данных в id_key\n",
    "q = f'{cols[0]} == \"{v}\"'\n",
    "\n",
    "### ищем связанные с этим id_user данные в id_key\n",
    "### и сохраняем эти id_key в список 2-ого уровня\n",
    "'''s2 = []    на этом этапе при 1-ой кол. тоже уже не нужна эта строка'''\n",
    "for i in df.query(q).id_key.tolist():\n",
    "    s2.append(i)\n",
    "\n",
    "### теперь\n",
    "### из результата (r) возьмем все данные из 2-ой искомой колонки\n",
    "### и сразу проведем поиск связанных данных\n",
    "v = r[cols[1]].iloc[0]\n",
    "\n",
    "### формируем запрос на поиск связанных с этим phone (2-ая кол.) данных в id_key\n",
    "q = f'{cols[1]} == \"{v}\"'\n",
    "\n",
    "### ищем связанные с этим phone данные в id_key\n",
    "### и сохраняем эти id_key в список 2-ого уровня\n",
    "for i in df.query(q).id_key.tolist():\n",
    "    s2.append(i)\n",
    "    \n",
    "### теперь\n",
    "### из результата (r) возьмем все данные из 3-ей искомой колонки\n",
    "### и сразу проведем поиск связанных данных\n",
    "v = r[cols[2]].iloc[0]\n",
    "\n",
    "### формируем запрос на поиск связанных с этим email (3-я кол.) данных в id_key\n",
    "q = f'{cols[2]} == \"{v}\"'\n",
    "\n",
    "### ищем связанные с этим email данные в id_key\n",
    "### и сохраняем эти id_key в список 2-ого уровня\n",
    "'''s2 = []    это нам в этой ячейке не нужно'''\n",
    "for i in df.query(q).id_key.tolist():\n",
    "    s2.append(i)"
   ]
  },
  {
   "cell_type": "code",
   "execution_count": 41,
   "id": "65906d5b",
   "metadata": {},
   "outputs": [
    {
     "data": {
      "text/plain": [
       "['2', '2', '4', '2', '4', '2', '4', '4', '5']"
      ]
     },
     "execution_count": 41,
     "metadata": {},
     "output_type": "execute_result"
    }
   ],
   "source": [
    "'''test'''\n",
    "s2"
   ]
  },
  {
   "cell_type": "markdown",
   "id": "92bbf0fe",
   "metadata": {},
   "source": [
    "***"
   ]
  },
  {
   "cell_type": "code",
   "execution_count": 42,
   "id": "0c5d4558",
   "metadata": {},
   "outputs": [],
   "source": [
    "# для последнего элемента из списка id_key перого уровня (s1)  поиск  осуществлен\n",
    "# теперь у нас есть сформированный список 2-ого уровня (s2)"
   ]
  },
  {
   "cell_type": "code",
   "execution_count": 43,
   "id": "ab6ec848",
   "metadata": {},
   "outputs": [],
   "source": [
    "# удаляем дупликаты\n",
    "s2 = list(dict.fromkeys(s2))"
   ]
  },
  {
   "cell_type": "code",
   "execution_count": 44,
   "id": "e7ec915d",
   "metadata": {},
   "outputs": [],
   "source": [
    "# сортируем\n",
    "s2 = list(map(int, s2))\n",
    "s2.sort()\n",
    "s2 = list(map(str, s2))"
   ]
  },
  {
   "cell_type": "code",
   "execution_count": 45,
   "id": "7f9258c8",
   "metadata": {},
   "outputs": [
    {
     "data": {
      "text/plain": [
       "['2', '4', '5']"
      ]
     },
     "execution_count": 45,
     "metadata": {},
     "output_type": "execute_result"
    }
   ],
   "source": [
    "'''test'''\n",
    "s2"
   ]
  },
  {
   "cell_type": "code",
   "execution_count": 46,
   "id": "a3f69f55",
   "metadata": {},
   "outputs": [],
   "source": [
    "# получаем список тех id_key, который мы еще не проверили на связь с первоначальным запросом\n",
    "# т.е. мы смотрим связь 2-ого уровня\n",
    "s2 = list(set(s2) - set(s1))"
   ]
  },
  {
   "cell_type": "code",
   "execution_count": 47,
   "id": "ffd88226",
   "metadata": {},
   "outputs": [
    {
     "data": {
      "text/plain": [
       "['5']"
      ]
     },
     "execution_count": 47,
     "metadata": {},
     "output_type": "execute_result"
    }
   ],
   "source": [
    "'''test'''\n",
    "s2"
   ]
  },
  {
   "cell_type": "markdown",
   "id": "985e259a",
   "metadata": {},
   "source": [
    "***"
   ]
  },
  {
   "cell_type": "code",
   "execution_count": 48,
   "id": "0f071ce5",
   "metadata": {},
   "outputs": [],
   "source": [
    "s3=[]  # формируем 3-ий уровень связи\n",
    "## для i-ого элемента s2 будем искать значения колонки 1 (id_user)\n",
    "for i in s2:\n",
    "    \n",
    "    ### берем i-ый элемент\n",
    "    el_ = i\n",
    "\n",
    "    ### формируем запрос\n",
    "    q = f'id_key == \"{el_}\"'\n",
    "\n",
    "    ### сохраняем результат запроса\n",
    "    r = df.query(q)\n",
    "\n",
    "    ### для k-ой колонки\n",
    "    for k in cols:\n",
    "        \n",
    "        ### сохраняем название колонки, с которой работаем\n",
    "        col_ = k\n",
    "        \n",
    "        ### из результата возьмем все данные из k-ой искомой колонки\n",
    "        ### и сразу проведем поиск связанных данных\n",
    "        v = r[col_].iloc[0]\n",
    "\n",
    "        ### формируем запрос на поиск связанных с k-ой колонкой данных в id_key\n",
    "        q = f'{col_} == \"{v}\"'\n",
    "\n",
    "        ### ищем связанные с этим id_user данные в id_key\n",
    "        ### и сохраняем эти id_key в список 2-ого уровня\n",
    "        for i in df.query(q).id_key.tolist():\n",
    "            s3.append(i)\n",
    "    \n",
    "### теперь у нас сформирован список id_key, связанных с запросом на 3-ем уровне"
   ]
  },
  {
   "cell_type": "code",
   "execution_count": 49,
   "id": "8bad2f06",
   "metadata": {},
   "outputs": [],
   "source": [
    "# для последнего элемента из списка id_key 2-ого уровня (s2)  поиск  осуществлен\n",
    "# теперь у нас есть сформированный список 3-его уровня (s3)"
   ]
  },
  {
   "cell_type": "code",
   "execution_count": 50,
   "id": "89fe0acf",
   "metadata": {},
   "outputs": [
    {
     "data": {
      "text/plain": [
       "['5', '6', '5', '4', '5']"
      ]
     },
     "execution_count": 50,
     "metadata": {},
     "output_type": "execute_result"
    }
   ],
   "source": [
    "'''test'''\n",
    "s3"
   ]
  },
  {
   "cell_type": "code",
   "execution_count": 51,
   "id": "ef4d6439",
   "metadata": {},
   "outputs": [],
   "source": [
    "# удаляем дупликаты\n",
    "s3 = list(dict.fromkeys(s3))\n",
    "\n",
    "# сортируем\n",
    "s3 = list(map(int, s3))\n",
    "s3.sort()\n",
    "s3 = list(map(str, s3))"
   ]
  },
  {
   "cell_type": "code",
   "execution_count": 52,
   "id": "35dd245a",
   "metadata": {},
   "outputs": [
    {
     "data": {
      "text/plain": [
       "['4', '5', '6']"
      ]
     },
     "execution_count": 52,
     "metadata": {},
     "output_type": "execute_result"
    }
   ],
   "source": [
    "'''test'''\n",
    "s3"
   ]
  },
  {
   "cell_type": "code",
   "execution_count": 53,
   "id": "86defc5a",
   "metadata": {},
   "outputs": [],
   "source": [
    "# получаем список тех id_key, который мы еще не проверили на связь с первоначальным запросом\n",
    "# т.е. мы смотрим связь 3-ого уровня\n",
    "s3 = list(set(s3) - set(s2) - set(s1))"
   ]
  },
  {
   "cell_type": "code",
   "execution_count": 54,
   "id": "2c74307a",
   "metadata": {},
   "outputs": [
    {
     "name": "stdout",
     "output_type": "stream",
     "text": [
      "['2', '4']\n",
      "['5']\n"
     ]
    }
   ],
   "source": [
    "'''test'''\n",
    "print(s1)\n",
    "print(s2)"
   ]
  },
  {
   "cell_type": "code",
   "execution_count": 55,
   "id": "d3e30fc2",
   "metadata": {},
   "outputs": [
    {
     "data": {
      "text/plain": [
       "['6']"
      ]
     },
     "execution_count": 55,
     "metadata": {},
     "output_type": "execute_result"
    }
   ],
   "source": [
    "'''test'''\n",
    "s3"
   ]
  },
  {
   "cell_type": "markdown",
   "id": "98b02235",
   "metadata": {},
   "source": [
    "***"
   ]
  },
  {
   "cell_type": "code",
   "execution_count": 56,
   "id": "0152a706",
   "metadata": {},
   "outputs": [],
   "source": [
    "s4=[]  # формируем 4-ый (финальный для этого DF) уровень связи\n",
    "## для i-ого элемента s3 будем искать значения колонки 1 (id_user)\n",
    "for i in s3:\n",
    "    \n",
    "    ### берем i-ый элемент\n",
    "    el_ = i\n",
    "\n",
    "    ### формируем запрос\n",
    "    q = f'id_key == \"{el_}\"'\n",
    "\n",
    "    ### сохраняем результат запроса\n",
    "    r = df.query(q)\n",
    "\n",
    "    ### для k-ой колонки\n",
    "    for k in cols:\n",
    "        \n",
    "        ### сохраняем название колонки, с которой работаем\n",
    "        col_ = k\n",
    "        \n",
    "        ### из результата возьмем все данные из k-ой искомой колонки\n",
    "        ### и сразу проведем поиск связанных данных\n",
    "        v = r[col_].iloc[0]\n",
    "\n",
    "        ### формируем запрос на поиск связанных с k-ой колонкой данных в id_key\n",
    "        q = f'{col_} == \"{v}\"'\n",
    "\n",
    "        ### ищем связанные с этим id_user данные в id_key\n",
    "        ### и сохраняем эти id_key в список 2-ого уровня\n",
    "        for i in df.query(q).id_key.tolist():\n",
    "            s4.append(i)\n",
    "    \n",
    "### теперь у нас сформирован список id_key, связанных с запросом на 3-ем уровне\n",
    "\n",
    "# для последнего элемента из списка id_key 3-ого уровня (s3)  поиск  осуществлен\n",
    "# теперь у нас есть сформированный список 4-ого (финального для этого DF) уровня (s4)\n",
    "\n",
    "# удаляем дупликаты\n",
    "s4 = list(dict.fromkeys(s4))\n",
    "\n",
    "# сортируем\n",
    "s3 = list(map(int, s3))\n",
    "s3.sort()\n",
    "s3 = list(map(str, s3))\n",
    "\n",
    "# получаем список тех id_key, который мы еще не проверили на связь с первоначальным запросом\n",
    "# т.е. мы смотрим связь 4-ого уровня\n",
    "s4 = list(set(s4) - set(s3) - set(s2) - set(s1))"
   ]
  },
  {
   "cell_type": "code",
   "execution_count": 57,
   "id": "cd51eee5",
   "metadata": {},
   "outputs": [
    {
     "data": {
      "text/plain": [
       "[]"
      ]
     },
     "execution_count": 57,
     "metadata": {},
     "output_type": "execute_result"
    }
   ],
   "source": [
    "'''test'''\n",
    "s4"
   ]
  },
  {
   "cell_type": "code",
   "execution_count": 58,
   "id": "dd1ddddb",
   "metadata": {},
   "outputs": [],
   "source": [
    "# не должно остаться id_key, которые мы не проверили на связь\n",
    "if s4 == []:\n",
    "    pass\n",
    "else:\n",
    "    print('ERROR: похоже, есть связь 5-ого и более уровней, т.к. список s4 не пуст')\n",
    "    '''и здесь мы обрываем выполнение функции'''"
   ]
  },
  {
   "cell_type": "code",
   "execution_count": 59,
   "id": "752b5479",
   "metadata": {},
   "outputs": [],
   "source": [
    "# формируем финальный список id_keys, которые мы должны отобразить в output\n",
    "S = set()\n",
    "S.update(set(s1))\n",
    "S.update(set(s2))\n",
    "S.update(set(s3))"
   ]
  },
  {
   "cell_type": "code",
   "execution_count": 60,
   "id": "058daa17",
   "metadata": {},
   "outputs": [
    {
     "data": {
      "text/plain": [
       "{'2', '4', '5', '6'}"
      ]
     },
     "execution_count": 60,
     "metadata": {},
     "output_type": "execute_result"
    }
   ],
   "source": [
    "'''test'''\n",
    "S"
   ]
  },
  {
   "cell_type": "code",
   "execution_count": 61,
   "id": "b301aecc",
   "metadata": {},
   "outputs": [
    {
     "data": {
      "text/html": [
       "<div>\n",
       "<style scoped>\n",
       "    .dataframe tbody tr th:only-of-type {\n",
       "        vertical-align: middle;\n",
       "    }\n",
       "\n",
       "    .dataframe tbody tr th {\n",
       "        vertical-align: top;\n",
       "    }\n",
       "\n",
       "    .dataframe thead th {\n",
       "        text-align: right;\n",
       "    }\n",
       "</style>\n",
       "<table border=\"1\" class=\"dataframe\">\n",
       "  <thead>\n",
       "    <tr style=\"text-align: right;\">\n",
       "      <th></th>\n",
       "      <th>id_key</th>\n",
       "      <th>id_user</th>\n",
       "      <th>phone</th>\n",
       "      <th>email</th>\n",
       "    </tr>\n",
       "  </thead>\n",
       "  <tbody>\n",
       "    <tr>\n",
       "      <th>1</th>\n",
       "      <td>2</td>\n",
       "      <td>54321</td>\n",
       "      <td>87778885566</td>\n",
       "      <td>two@mail.ru</td>\n",
       "    </tr>\n",
       "    <tr>\n",
       "      <th>3</th>\n",
       "      <td>4</td>\n",
       "      <td>66678</td>\n",
       "      <td>87778885566</td>\n",
       "      <td>four@mail.ru</td>\n",
       "    </tr>\n",
       "    <tr>\n",
       "      <th>4</th>\n",
       "      <td>5</td>\n",
       "      <td>34567</td>\n",
       "      <td>84547895566</td>\n",
       "      <td>four@mail.ru</td>\n",
       "    </tr>\n",
       "    <tr>\n",
       "      <th>5</th>\n",
       "      <td>6</td>\n",
       "      <td>34567</td>\n",
       "      <td>89087545678</td>\n",
       "      <td>five@mail.ru</td>\n",
       "    </tr>\n",
       "  </tbody>\n",
       "</table>\n",
       "</div>"
      ],
      "text/plain": [
       "  id_key id_user        phone         email\n",
       "1      2   54321  87778885566   two@mail.ru\n",
       "3      4   66678  87778885566  four@mail.ru\n",
       "4      5   34567  84547895566  four@mail.ru\n",
       "5      6   34567  89087545678  five@mail.ru"
      ]
     },
     "execution_count": 61,
     "metadata": {},
     "output_type": "execute_result"
    }
   ],
   "source": [
    "# возвращаем DF с запросом в качестве output\n",
    "df.query(f'id_key in {list(S)}')"
   ]
  },
  {
   "cell_type": "code",
   "execution_count": null,
   "id": "93566eda",
   "metadata": {},
   "outputs": [],
   "source": []
  },
  {
   "cell_type": "code",
   "execution_count": null,
   "id": "35d74396",
   "metadata": {},
   "outputs": [],
   "source": []
  },
  {
   "cell_type": "code",
   "execution_count": null,
   "id": "3e903cd2",
   "metadata": {},
   "outputs": [],
   "source": []
  }
 ],
 "metadata": {
  "kernelspec": {
   "display_name": "Python 3 (ipykernel)",
   "language": "python",
   "name": "python3"
  },
  "language_info": {
   "codemirror_mode": {
    "name": "ipython",
    "version": 3
   },
   "file_extension": ".py",
   "mimetype": "text/x-python",
   "name": "python",
   "nbconvert_exporter": "python",
   "pygments_lexer": "ipython3",
   "version": "3.10.5"
  }
 },
 "nbformat": 4,
 "nbformat_minor": 5
}
